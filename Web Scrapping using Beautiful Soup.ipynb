{
 "cells": [
  {
   "cell_type": "code",
   "execution_count": 1,
   "metadata": {},
   "outputs": [],
   "source": [
    "import bs4\n",
    "from bs4 import BeautifulSoup as bs \n",
    "import requests"
   ]
  },
  {
   "cell_type": "code",
   "execution_count": 2,
   "metadata": {},
   "outputs": [],
   "source": [
    "# !pip install requests"
   ]
  },
  {
   "cell_type": "code",
   "execution_count": 3,
   "metadata": {},
   "outputs": [
    {
     "name": "stdout",
     "output_type": "stream",
     "text": [
      "4.9.1\n"
     ]
    }
   ],
   "source": [
    "print(bs4.__version__)"
   ]
  },
  {
   "cell_type": "code",
   "execution_count": 4,
   "metadata": {},
   "outputs": [],
   "source": [
    "url = 'https://www.amazon.in/New-Apple-iPhone-11-64GB/product-reviews/B08L8DV7BX/ref=cm_cr_dp_d_show_all_btm?ie=UTF8&reviewerType=all_reviews'"
   ]
  },
  {
   "cell_type": "code",
   "execution_count": 5,
   "metadata": {},
   "outputs": [],
   "source": [
    "# Get the html page using url\n",
    "page = requests.get(url)"
   ]
  },
  {
   "cell_type": "code",
   "execution_count": 1,
   "metadata": {},
   "outputs": [],
   "source": [
    "# display the html page \n",
    "# page.content"
   ]
  },
  {
   "cell_type": "code",
   "execution_count": 2,
   "metadata": {},
   "outputs": [],
   "source": [
    "# reading html file page.content \n",
    "soup = bs(page.content, 'html.parser')\n",
    "# soup"
   ]
  },
  {
   "cell_type": "code",
   "execution_count": 3,
   "metadata": {},
   "outputs": [],
   "source": [
    "# Prettify() function in beautifulsoup will enable to view the html page with how tags are nested in document / page\n",
    "\n",
    "# print(soup.prettify())"
   ]
  },
  {
   "cell_type": "code",
   "execution_count": 9,
   "metadata": {},
   "outputs": [],
   "source": [
    "names = soup.find_all('span', class_ = 'a-profile-name')"
   ]
  },
  {
   "cell_type": "code",
   "execution_count": 10,
   "metadata": {},
   "outputs": [
    {
     "data": {
      "text/plain": [
       "[<span class=\"a-profile-name\">shanu Kumar</span>,\n",
       " <span class=\"a-profile-name\">Neha</span>,\n",
       " <span class=\"a-profile-name\">Neha</span>,\n",
       " <span class=\"a-profile-name\">Krusshna</span>,\n",
       " <span class=\"a-profile-name\">shanu Kumar</span>,\n",
       " <span class=\"a-profile-name\">Amazon Customer</span>,\n",
       " <span class=\"a-profile-name\">Sunny Kumar</span>,\n",
       " <span class=\"a-profile-name\">Sai </span>,\n",
       " <span class=\"a-profile-name\">Satyapal singh</span>,\n",
       " <span class=\"a-profile-name\">Gurmeet singh</span>,\n",
       " <span class=\"a-profile-name\">Vinay Kumar Gupta</span>,\n",
       " <span class=\"a-profile-name\">NAZAR</span>]"
      ]
     },
     "execution_count": 10,
     "metadata": {},
     "output_type": "execute_result"
    }
   ],
   "source": [
    "names"
   ]
  },
  {
   "cell_type": "code",
   "execution_count": 11,
   "metadata": {},
   "outputs": [],
   "source": [
    "# Get the texts from list of names \n",
    "cust_names = []\n",
    "for i in range(len(names)):\n",
    "    cust_names.append(names[i].get_text())"
   ]
  },
  {
   "cell_type": "code",
   "execution_count": 12,
   "metadata": {},
   "outputs": [
    {
     "data": {
      "text/plain": [
       "['shanu Kumar',\n",
       " 'Neha',\n",
       " 'Neha',\n",
       " 'Krusshna',\n",
       " 'shanu Kumar',\n",
       " 'Amazon Customer',\n",
       " 'Sunny Kumar',\n",
       " 'Sai ',\n",
       " 'Satyapal singh',\n",
       " 'Gurmeet singh',\n",
       " 'Vinay Kumar Gupta',\n",
       " 'NAZAR']"
      ]
     },
     "execution_count": 12,
     "metadata": {},
     "output_type": "execute_result"
    }
   ],
   "source": [
    "cust_names"
   ]
  },
  {
   "cell_type": "code",
   "execution_count": 13,
   "metadata": {},
   "outputs": [
    {
     "data": {
      "text/plain": [
       "'shanu Kumar'"
      ]
     },
     "execution_count": 13,
     "metadata": {},
     "output_type": "execute_result"
    }
   ],
   "source": [
    "cust_names.pop(0)"
   ]
  },
  {
   "cell_type": "code",
   "execution_count": 14,
   "metadata": {},
   "outputs": [
    {
     "data": {
      "text/plain": [
       "'Neha'"
      ]
     },
     "execution_count": 14,
     "metadata": {},
     "output_type": "execute_result"
    }
   ],
   "source": [
    "cust_names.pop(0)"
   ]
  },
  {
   "cell_type": "code",
   "execution_count": 15,
   "metadata": {},
   "outputs": [
    {
     "data": {
      "text/plain": [
       "['Neha',\n",
       " 'Krusshna',\n",
       " 'shanu Kumar',\n",
       " 'Amazon Customer',\n",
       " 'Sunny Kumar',\n",
       " 'Sai ',\n",
       " 'Satyapal singh',\n",
       " 'Gurmeet singh',\n",
       " 'Vinay Kumar Gupta',\n",
       " 'NAZAR']"
      ]
     },
     "execution_count": 15,
     "metadata": {},
     "output_type": "execute_result"
    }
   ],
   "source": [
    "cust_names"
   ]
  },
  {
   "cell_type": "code",
   "execution_count": 16,
   "metadata": {},
   "outputs": [],
   "source": [
    "# Title of each review commented 'review-title'\n",
    "review_title = soup.find_all(class_ ='review-title')"
   ]
  },
  {
   "cell_type": "code",
   "execution_count": 17,
   "metadata": {},
   "outputs": [],
   "source": [
    "# Get the texts from list of names \n",
    "title = []\n",
    "for i in range(len(names)):\n",
    "    title.append(review_title[i].get_text())"
   ]
  },
  {
   "cell_type": "code",
   "execution_count": 18,
   "metadata": {},
   "outputs": [
    {
     "data": {
      "text/plain": [
       "['Solid premium phone from Apple',\n",
       " 'Do not buy iphone or expensive product from Amazom',\n",
       " '\\nDo not buy iphone or expensive product from Amazom\\n',\n",
       " '\\nDon’t buy it from this seller\\n',\n",
       " '\\nSolid premium phone from Apple\\n',\n",
       " '\\nWorst Experience Ever.!\\n',\n",
       " '\\nFirst Time iPhone User Review :-)\\n',\n",
       " '\\nGOT CHEATED . ITS A SCAM. AMAZON FIX THIS\\n',\n",
       " '\\niPhone 11\\n',\n",
       " '\\nDefective Iphone 11\\n',\n",
       " '\\nToo much heat on normal use\\n',\n",
       " '\\nProvided with a defective product\\n']"
      ]
     },
     "execution_count": 18,
     "metadata": {},
     "output_type": "execute_result"
    }
   ],
   "source": [
    "title"
   ]
  },
  {
   "cell_type": "code",
   "execution_count": 19,
   "metadata": {},
   "outputs": [
    {
     "data": {
      "text/plain": [
       "['Solid premium phone from Apple',\n",
       " 'Do not buy iphone or expensive product from Amazom',\n",
       " 'Do not buy iphone or expensive product from Amazom',\n",
       " 'Don’t buy it from this seller',\n",
       " 'Solid premium phone from Apple',\n",
       " 'Worst Experience Ever.!',\n",
       " 'First Time iPhone User Review :-)',\n",
       " 'GOT CHEATED . ITS A SCAM. AMAZON FIX THIS',\n",
       " 'iPhone 11',\n",
       " 'Defective Iphone 11',\n",
       " 'Too much heat on normal use',\n",
       " 'Provided with a defective product']"
      ]
     },
     "execution_count": 19,
     "metadata": {},
     "output_type": "execute_result"
    }
   ],
   "source": [
    "review_title = [title.strip('\\n') for title in title]\n",
    "review_title"
   ]
  },
  {
   "cell_type": "code",
   "execution_count": 20,
   "metadata": {},
   "outputs": [
    {
     "data": {
      "text/plain": [
       "'Solid premium phone from Apple'"
      ]
     },
     "execution_count": 20,
     "metadata": {},
     "output_type": "execute_result"
    }
   ],
   "source": [
    "review_title.pop(0)"
   ]
  },
  {
   "cell_type": "code",
   "execution_count": 21,
   "metadata": {},
   "outputs": [
    {
     "data": {
      "text/plain": [
       "'Do not buy iphone or expensive product from Amazom'"
      ]
     },
     "execution_count": 21,
     "metadata": {},
     "output_type": "execute_result"
    }
   ],
   "source": [
    "review_title.pop(0)"
   ]
  },
  {
   "cell_type": "code",
   "execution_count": 22,
   "metadata": {},
   "outputs": [
    {
     "data": {
      "text/plain": [
       "['Do not buy iphone or expensive product from Amazom',\n",
       " 'Don’t buy it from this seller',\n",
       " 'Solid premium phone from Apple',\n",
       " 'Worst Experience Ever.!',\n",
       " 'First Time iPhone User Review :-)',\n",
       " 'GOT CHEATED . ITS A SCAM. AMAZON FIX THIS',\n",
       " 'iPhone 11',\n",
       " 'Defective Iphone 11',\n",
       " 'Too much heat on normal use',\n",
       " 'Provided with a defective product']"
      ]
     },
     "execution_count": 22,
     "metadata": {},
     "output_type": "execute_result"
    }
   ],
   "source": [
    "review_title"
   ]
  },
  {
   "cell_type": "code",
   "execution_count": 23,
   "metadata": {},
   "outputs": [
    {
     "data": {
      "text/plain": [
       "[<i class=\"a-icon a-icon-star a-star-5 review-rating\" data-hook=\"review-star-rating-view-point\"><span class=\"a-icon-alt\">5.0 out of 5 stars</span></i>,\n",
       " <i class=\"a-icon a-icon-star a-star-1 review-rating\" data-hook=\"review-star-rating-view-point\"><span class=\"a-icon-alt\">1.0 out of 5 stars</span></i>,\n",
       " <i class=\"a-icon a-icon-star a-star-1 review-rating\" data-hook=\"review-star-rating\"><span class=\"a-icon-alt\">1.0 out of 5 stars</span></i>,\n",
       " <i class=\"a-icon a-icon-star a-star-1 review-rating\" data-hook=\"review-star-rating\"><span class=\"a-icon-alt\">1.0 out of 5 stars</span></i>,\n",
       " <i class=\"a-icon a-icon-star a-star-5 review-rating\" data-hook=\"review-star-rating\"><span class=\"a-icon-alt\">5.0 out of 5 stars</span></i>,\n",
       " <i class=\"a-icon a-icon-star a-star-1 review-rating\" data-hook=\"review-star-rating\"><span class=\"a-icon-alt\">1.0 out of 5 stars</span></i>,\n",
       " <i class=\"a-icon a-icon-star a-star-5 review-rating\" data-hook=\"review-star-rating\"><span class=\"a-icon-alt\">5.0 out of 5 stars</span></i>,\n",
       " <i class=\"a-icon a-icon-star a-star-1 review-rating\" data-hook=\"review-star-rating\"><span class=\"a-icon-alt\">1.0 out of 5 stars</span></i>,\n",
       " <i class=\"a-icon a-icon-star a-star-1 review-rating\" data-hook=\"review-star-rating\"><span class=\"a-icon-alt\">1.0 out of 5 stars</span></i>,\n",
       " <i class=\"a-icon a-icon-star a-star-1 review-rating\" data-hook=\"review-star-rating\"><span class=\"a-icon-alt\">1.0 out of 5 stars</span></i>,\n",
       " <i class=\"a-icon a-icon-star a-star-1 review-rating\" data-hook=\"review-star-rating\"><span class=\"a-icon-alt\">1.0 out of 5 stars</span></i>,\n",
       " <i class=\"a-icon a-icon-star a-star-1 review-rating\" data-hook=\"review-star-rating\"><span class=\"a-icon-alt\">1.0 out of 5 stars</span></i>]"
      ]
     },
     "execution_count": 23,
     "metadata": {},
     "output_type": "execute_result"
    }
   ],
   "source": [
    "rating = soup.find_all(class_ ='review-rating')\n",
    "rating"
   ]
  },
  {
   "cell_type": "code",
   "execution_count": 24,
   "metadata": {},
   "outputs": [],
   "source": [
    "# Get the texts from list of names \n",
    "rating_list = []\n",
    "for i in range(len(rating)):\n",
    "    rating_list.append(rating[i].get_text()[0])"
   ]
  },
  {
   "cell_type": "code",
   "execution_count": 25,
   "metadata": {},
   "outputs": [
    {
     "data": {
      "text/plain": [
       "['5', '1', '1', '1', '5', '1', '5', '1', '1', '1', '1', '1']"
      ]
     },
     "execution_count": 25,
     "metadata": {},
     "output_type": "execute_result"
    }
   ],
   "source": [
    "rating_list"
   ]
  },
  {
   "cell_type": "code",
   "execution_count": 26,
   "metadata": {},
   "outputs": [
    {
     "data": {
      "text/plain": [
       "['1', '1', '5', '1', '5', '1', '1', '1', '1', '1']"
      ]
     },
     "execution_count": 26,
     "metadata": {},
     "output_type": "execute_result"
    }
   ],
   "source": [
    "new_rating_list = rating_list[2:]\n",
    "new_rating_list "
   ]
  },
  {
   "cell_type": "code",
   "execution_count": 27,
   "metadata": {},
   "outputs": [
    {
     "data": {
      "text/plain": [
       "[<span class=\"a-size-base review-text review-text-content\" data-hook=\"review-body\">\n",
       " <span>\n",
       "   Please do not buy expensive product like iphone from Amazon, i had very bad exp, the charger cord was missing and had sound quality issues. Amazon initial told charger doesn't come in box and when i challenged it they asked reimburse the cord amount, but i requested a replacement, after some days they called me and informed that they dont take responsibility of missing items, and 10 day replacement policy they dont follow, you can read the email conversation attached  here where i mentioned every thing, i have the call recordings as well. At last they denied the phone replacement and even to provide the missing cord. For any damage or quality issues they said amazon is not responsible.\n",
       " </span>\n",
       " </span>,\n",
       " <span class=\"a-size-base review-text review-text-content\" data-hook=\"review-body\">\n",
       " <span>\n",
       "   Bought the mobile from appario retail ltd. Mobile is heating up within seconds and also camera modes aren’t working properly. Particularly in portrait mode, the stage light and mono options aren’t working properly.  i raised the same to apple customer care they confirmed that its not software issue. But the amazon customer care told me that they need a job card and report from apple service center. The nearest service center is located at 210km from my place, imagine the amount of strain and how much its going to cost. Before you buy anything from this seller just google it and u can find numerous complaints on this seller. What ever they sell u will find defective products only. There is a thread on this sellers dubious deals in quora. Please be safe and don’t regret after.\n",
       " </span>\n",
       " </span>,\n",
       " <span class=\"a-size-base review-text review-text-content\" data-hook=\"review-body\">\n",
       " <span>\n",
       "   Awesome Phone. Nice upgrade from iPhone 6s to iPhone 11. Love this beautiful phone.\n",
       " </span>\n",
       " </span>,\n",
       " <span class=\"a-size-base review-text review-text-content\" data-hook=\"review-body\">\n",
       " <span>\n",
       "   My Phone is Producing Too Much Heat Even Didn’t Put Sim , Never used more than Half an hour And It’s producing too much heat.. Totally Disappointed With Amazon. Now they are saying To Go Icare services( After Calling to customer care several times) Amazon can’t do anything For this . Worst Experience with Amazon. No one would like to repair new phone 😢 Better Go for shop To buy apple products .\n",
       " </span>\n",
       " </span>,\n",
       " <span class=\"a-size-base review-text review-text-content\" data-hook=\"review-body\">\n",
       " <span>\n",
       "   The iPhone design is good and the camera quality is awesome. You can also take pictures in wide angles and the image quality is awesome.<br/><br/>Phone got delivered at 9am on 28th September (I pre-order it on 27th September at 3am in the morning), I got my phone before the delivery date with nice and secured packaging.<br/><br/>The overall look of the phone is premium and face unlocking is fast. I grabbed this phone with HDFC 6K Instant Discount Offer at Just 64K (128 GB Variant).<br/><br/>Cons:<br/><br/>1. The phone is great but if you use \"in the box\" accessories like \"EarPods with Lighting Connector\", then you might feel a little pain in your ears.<br/><br/>2. The phone comes with 5W charger which charge your phone slowly. I recommend you to prefer using 18W charger.<br/><br/>Well, I've never tried the iPhone before and I'm using this for the first time (Yes, I'm already using other apple products like MacBook Air &amp; Pro).<br/><br/>But the product is great and I'm just lovin it.\n",
       " </span>\n",
       " </span>,\n",
       " <span class=\"a-size-base review-text review-text-content\" data-hook=\"review-body\">\n",
       " <span>\n",
       "   This is a big scam. I received the iphone 11 yesterday and it turned out to be a defective piece . The audio doesn’t record when you are recording a video. Multiple other issues like phone not turning on even after being on full charge . So it says 10 days replacement on this. So I clicked on it and Amazon says we can’t do anything you should contact Apple . Apple says our service Centers are not having any slots so we can’t do anything you should contact amazon . What is this ? You torture a customer as soon as you make money . And that too for such en expensive phone . I demand a replacement for my phone right now Amazon ! Don’t play with people’s hard earned money . Guys stay away from this Apple days sale .\n",
       " </span>\n",
       " </span>,\n",
       " <span class=\"a-size-base review-text review-text-content\" data-hook=\"review-body\">\n",
       " <span>\n",
       "   Defective product,got heat up within 5 minutes of starting. Need to return  fast<br/>Very very bad experience\n",
       " </span>\n",
       " </span>,\n",
       " <span class=\"a-size-base review-text review-text-content\" data-hook=\"review-body\">\n",
       " <span>\n",
       "   The product i got was defective . The face id is not working and the back camera is also not working. There is a lot of hassle to get it exchanged. The apple service centre is also not of much help as the product is from amazon. Please buy phones from apple store to get the right product .\n",
       " </span>\n",
       " </span>,\n",
       " <span class=\"a-size-base review-text review-text-content\" data-hook=\"review-body\">\n",
       " <span>\n",
       "   Just after i switched it on, it started producing so much heating even i cant hold it by hand. Later i tried YouTube, game, normal browsing and it has the same excessive heating issue. Seems defective piece. I need refund asap. I have not paid 70k for a defective phone. I am feeling like got scammed.<br/><br/>Edit - I returned this phone and got refund from amazon and bought the same from flipkart ..and it got no issues .\n",
       " </span>\n",
       " </span>,\n",
       " <span class=\"a-size-base review-text review-text-content\" data-hook=\"review-body\">\n",
       " <span>\n",
       "   Provided with defective product .<br/>Struggling for replacement since then .<br/>There are so many hidden terms and conditions.<br/>It's my last order on Amazon\n",
       " </span>\n",
       " </span>]"
      ]
     },
     "execution_count": 27,
     "metadata": {},
     "output_type": "execute_result"
    }
   ],
   "source": [
    "review = soup.find_all('span', {\"data-hook\" : 'review-body'})\n",
    "review"
   ]
  },
  {
   "cell_type": "code",
   "execution_count": 28,
   "metadata": {},
   "outputs": [
    {
     "data": {
      "text/plain": [
       "[<span class=\"a-size-base review-text review-text-content\" data-hook=\"review-body\">\n",
       " <span>\n",
       "   Please do not buy expensive product like iphone from Amazon, i had very bad exp, the charger cord was missing and had sound quality issues. Amazon initial told charger doesn't come in box and when i challenged it they asked reimburse the cord amount, but i requested a replacement, after some days they called me and informed that they dont take responsibility of missing items, and 10 day replacement policy they dont follow, you can read the email conversation attached  here where i mentioned every thing, i have the call recordings as well. At last they denied the phone replacement and even to provide the missing cord. For any damage or quality issues they said amazon is not responsible.\n",
       " </span>\n",
       " </span>,\n",
       " <span class=\"a-size-base review-text review-text-content\" data-hook=\"review-body\">\n",
       " <span>\n",
       "   Bought the mobile from appario retail ltd. Mobile is heating up within seconds and also camera modes aren’t working properly. Particularly in portrait mode, the stage light and mono options aren’t working properly.  i raised the same to apple customer care they confirmed that its not software issue. But the amazon customer care told me that they need a job card and report from apple service center. The nearest service center is located at 210km from my place, imagine the amount of strain and how much its going to cost. Before you buy anything from this seller just google it and u can find numerous complaints on this seller. What ever they sell u will find defective products only. There is a thread on this sellers dubious deals in quora. Please be safe and don’t regret after.\n",
       " </span>\n",
       " </span>,\n",
       " <span class=\"a-size-base review-text review-text-content\" data-hook=\"review-body\">\n",
       " <span>\n",
       "   Awesome Phone. Nice upgrade from iPhone 6s to iPhone 11. Love this beautiful phone.\n",
       " </span>\n",
       " </span>,\n",
       " <span class=\"a-size-base review-text review-text-content\" data-hook=\"review-body\">\n",
       " <span>\n",
       "   My Phone is Producing Too Much Heat Even Didn’t Put Sim , Never used more than Half an hour And It’s producing too much heat.. Totally Disappointed With Amazon. Now they are saying To Go Icare services( After Calling to customer care several times) Amazon can’t do anything For this . Worst Experience with Amazon. No one would like to repair new phone 😢 Better Go for shop To buy apple products .\n",
       " </span>\n",
       " </span>,\n",
       " <span class=\"a-size-base review-text review-text-content\" data-hook=\"review-body\">\n",
       " <span>\n",
       "   The iPhone design is good and the camera quality is awesome. You can also take pictures in wide angles and the image quality is awesome.<br/><br/>Phone got delivered at 9am on 28th September (I pre-order it on 27th September at 3am in the morning), I got my phone before the delivery date with nice and secured packaging.<br/><br/>The overall look of the phone is premium and face unlocking is fast. I grabbed this phone with HDFC 6K Instant Discount Offer at Just 64K (128 GB Variant).<br/><br/>Cons:<br/><br/>1. The phone is great but if you use \"in the box\" accessories like \"EarPods with Lighting Connector\", then you might feel a little pain in your ears.<br/><br/>2. The phone comes with 5W charger which charge your phone slowly. I recommend you to prefer using 18W charger.<br/><br/>Well, I've never tried the iPhone before and I'm using this for the first time (Yes, I'm already using other apple products like MacBook Air &amp; Pro).<br/><br/>But the product is great and I'm just lovin it.\n",
       " </span>\n",
       " </span>,\n",
       " <span class=\"a-size-base review-text review-text-content\" data-hook=\"review-body\">\n",
       " <span>\n",
       "   This is a big scam. I received the iphone 11 yesterday and it turned out to be a defective piece . The audio doesn’t record when you are recording a video. Multiple other issues like phone not turning on even after being on full charge . So it says 10 days replacement on this. So I clicked on it and Amazon says we can’t do anything you should contact Apple . Apple says our service Centers are not having any slots so we can’t do anything you should contact amazon . What is this ? You torture a customer as soon as you make money . And that too for such en expensive phone . I demand a replacement for my phone right now Amazon ! Don’t play with people’s hard earned money . Guys stay away from this Apple days sale .\n",
       " </span>\n",
       " </span>,\n",
       " <span class=\"a-size-base review-text review-text-content\" data-hook=\"review-body\">\n",
       " <span>\n",
       "   Defective product,got heat up within 5 minutes of starting. Need to return  fast<br/>Very very bad experience\n",
       " </span>\n",
       " </span>,\n",
       " <span class=\"a-size-base review-text review-text-content\" data-hook=\"review-body\">\n",
       " <span>\n",
       "   The product i got was defective . The face id is not working and the back camera is also not working. There is a lot of hassle to get it exchanged. The apple service centre is also not of much help as the product is from amazon. Please buy phones from apple store to get the right product .\n",
       " </span>\n",
       " </span>,\n",
       " <span class=\"a-size-base review-text review-text-content\" data-hook=\"review-body\">\n",
       " <span>\n",
       "   Just after i switched it on, it started producing so much heating even i cant hold it by hand. Later i tried YouTube, game, normal browsing and it has the same excessive heating issue. Seems defective piece. I need refund asap. I have not paid 70k for a defective phone. I am feeling like got scammed.<br/><br/>Edit - I returned this phone and got refund from amazon and bought the same from flipkart ..and it got no issues .\n",
       " </span>\n",
       " </span>,\n",
       " <span class=\"a-size-base review-text review-text-content\" data-hook=\"review-body\">\n",
       " <span>\n",
       "   Provided with defective product .<br/>Struggling for replacement since then .<br/>There are so many hidden terms and conditions.<br/>It's my last order on Amazon\n",
       " </span>\n",
       " </span>]"
      ]
     },
     "execution_count": 28,
     "metadata": {},
     "output_type": "execute_result"
    }
   ],
   "source": [
    "review = soup.find_all('span', class_= 'review-text-content')\n",
    "review"
   ]
  },
  {
   "cell_type": "code",
   "execution_count": 29,
   "metadata": {},
   "outputs": [],
   "source": [
    "review_body = []\n",
    "for i in range(len(review)):\n",
    "    review_body.append(review[i].get_text())"
   ]
  },
  {
   "cell_type": "code",
   "execution_count": 30,
   "metadata": {},
   "outputs": [
    {
     "data": {
      "text/plain": [
       "[\"\\n\\n  Please do not buy expensive product like iphone from Amazon, i had very bad exp, the charger cord was missing and had sound quality issues. Amazon initial told charger doesn't come in box and when i challenged it they asked reimburse the cord amount, but i requested a replacement, after some days they called me and informed that they dont take responsibility of missing items, and 10 day replacement policy they dont follow, you can read the email conversation attached  here where i mentioned every thing, i have the call recordings as well. At last they denied the phone replacement and even to provide the missing cord. For any damage or quality issues they said amazon is not responsible.\\n\\n\",\n",
       " '\\n\\n  Bought the mobile from appario retail ltd. Mobile is heating up within seconds and also camera modes aren’t working properly. Particularly in portrait mode, the stage light and mono options aren’t working properly.  i raised the same to apple customer care they confirmed that its not software issue. But the amazon customer care told me that they need a job card and report from apple service center. The nearest service center is located at 210km from my place, imagine the amount of strain and how much its going to cost. Before you buy anything from this seller just google it and u can find numerous complaints on this seller. What ever they sell u will find defective products only. There is a thread on this sellers dubious deals in quora. Please be safe and don’t regret after.\\n\\n',\n",
       " '\\n\\n  Awesome Phone. Nice upgrade from iPhone 6s to iPhone 11. Love this beautiful phone.\\n\\n',\n",
       " '\\n\\n  My Phone is Producing Too Much Heat Even Didn’t Put Sim , Never used more than Half an hour And It’s producing too much heat.. Totally Disappointed With Amazon. Now they are saying To Go Icare services( After Calling to customer care several times) Amazon can’t do anything For this . Worst Experience with Amazon. No one would like to repair new phone 😢 Better Go for shop To buy apple products .\\n\\n',\n",
       " '\\n\\n  The iPhone design is good and the camera quality is awesome. You can also take pictures in wide angles and the image quality is awesome.Phone got delivered at 9am on 28th September (I pre-order it on 27th September at 3am in the morning), I got my phone before the delivery date with nice and secured packaging.The overall look of the phone is premium and face unlocking is fast. I grabbed this phone with HDFC 6K Instant Discount Offer at Just 64K (128 GB Variant).Cons:1. The phone is great but if you use \"in the box\" accessories like \"EarPods with Lighting Connector\", then you might feel a little pain in your ears.2. The phone comes with 5W charger which charge your phone slowly. I recommend you to prefer using 18W charger.Well, I\\'ve never tried the iPhone before and I\\'m using this for the first time (Yes, I\\'m already using other apple products like MacBook Air & Pro).But the product is great and I\\'m just lovin it.\\n\\n',\n",
       " '\\n\\n  This is a big scam. I received the iphone 11 yesterday and it turned out to be a defective piece . The audio doesn’t record when you are recording a video. Multiple other issues like phone not turning on even after being on full charge . So it says 10 days replacement on this. So I clicked on it and Amazon says we can’t do anything you should contact Apple . Apple says our service Centers are not having any slots so we can’t do anything you should contact amazon . What is this ? You torture a customer as soon as you make money . And that too for such en expensive phone . I demand a replacement for my phone right now Amazon ! Don’t play with people’s hard earned money . Guys stay away from this Apple days sale .\\n\\n',\n",
       " '\\n\\n  Defective product,got heat up within 5 minutes of starting. Need to return  fastVery very bad experience\\n\\n',\n",
       " '\\n\\n  The product i got was defective . The face id is not working and the back camera is also not working. There is a lot of hassle to get it exchanged. The apple service centre is also not of much help as the product is from amazon. Please buy phones from apple store to get the right product .\\n\\n',\n",
       " '\\n\\n  Just after i switched it on, it started producing so much heating even i cant hold it by hand. Later i tried YouTube, game, normal browsing and it has the same excessive heating issue. Seems defective piece. I need refund asap. I have not paid 70k for a defective phone. I am feeling like got scammed.Edit - I returned this phone and got refund from amazon and bought the same from flipkart ..and it got no issues .\\n\\n',\n",
       " \"\\n\\n  Provided with defective product .Struggling for replacement since then .There are so many hidden terms and conditions.It's my last order on Amazon\\n\\n\"]"
      ]
     },
     "execution_count": 30,
     "metadata": {},
     "output_type": "execute_result"
    }
   ],
   "source": [
    "review_body"
   ]
  },
  {
   "cell_type": "code",
   "execution_count": 31,
   "metadata": {},
   "outputs": [
    {
     "data": {
      "text/plain": [
       "[\"  Please do not buy expensive product like iphone from Amazon, i had very bad exp, the charger cord was missing and had sound quality issues. Amazon initial told charger doesn't come in box and when i challenged it they asked reimburse the cord amount, but i requested a replacement, after some days they called me and informed that they dont take responsibility of missing items, and 10 day replacement policy they dont follow, you can read the email conversation attached  here where i mentioned every thing, i have the call recordings as well. At last they denied the phone replacement and even to provide the missing cord. For any damage or quality issues they said amazon is not responsible.\",\n",
       " '  Bought the mobile from appario retail ltd. Mobile is heating up within seconds and also camera modes aren’t working properly. Particularly in portrait mode, the stage light and mono options aren’t working properly.  i raised the same to apple customer care they confirmed that its not software issue. But the amazon customer care told me that they need a job card and report from apple service center. The nearest service center is located at 210km from my place, imagine the amount of strain and how much its going to cost. Before you buy anything from this seller just google it and u can find numerous complaints on this seller. What ever they sell u will find defective products only. There is a thread on this sellers dubious deals in quora. Please be safe and don’t regret after.',\n",
       " '  Awesome Phone. Nice upgrade from iPhone 6s to iPhone 11. Love this beautiful phone.',\n",
       " '  My Phone is Producing Too Much Heat Even Didn’t Put Sim , Never used more than Half an hour And It’s producing too much heat.. Totally Disappointed With Amazon. Now they are saying To Go Icare services( After Calling to customer care several times) Amazon can’t do anything For this . Worst Experience with Amazon. No one would like to repair new phone 😢 Better Go for shop To buy apple products .',\n",
       " '  The iPhone design is good and the camera quality is awesome. You can also take pictures in wide angles and the image quality is awesome.Phone got delivered at 9am on 28th September (I pre-order it on 27th September at 3am in the morning), I got my phone before the delivery date with nice and secured packaging.The overall look of the phone is premium and face unlocking is fast. I grabbed this phone with HDFC 6K Instant Discount Offer at Just 64K (128 GB Variant).Cons:1. The phone is great but if you use \"in the box\" accessories like \"EarPods with Lighting Connector\", then you might feel a little pain in your ears.2. The phone comes with 5W charger which charge your phone slowly. I recommend you to prefer using 18W charger.Well, I\\'ve never tried the iPhone before and I\\'m using this for the first time (Yes, I\\'m already using other apple products like MacBook Air & Pro).But the product is great and I\\'m just lovin it.',\n",
       " '  This is a big scam. I received the iphone 11 yesterday and it turned out to be a defective piece . The audio doesn’t record when you are recording a video. Multiple other issues like phone not turning on even after being on full charge . So it says 10 days replacement on this. So I clicked on it and Amazon says we can’t do anything you should contact Apple . Apple says our service Centers are not having any slots so we can’t do anything you should contact amazon . What is this ? You torture a customer as soon as you make money . And that too for such en expensive phone . I demand a replacement for my phone right now Amazon ! Don’t play with people’s hard earned money . Guys stay away from this Apple days sale .',\n",
       " '  Defective product,got heat up within 5 minutes of starting. Need to return  fastVery very bad experience',\n",
       " '  The product i got was defective . The face id is not working and the back camera is also not working. There is a lot of hassle to get it exchanged. The apple service centre is also not of much help as the product is from amazon. Please buy phones from apple store to get the right product .',\n",
       " '  Just after i switched it on, it started producing so much heating even i cant hold it by hand. Later i tried YouTube, game, normal browsing and it has the same excessive heating issue. Seems defective piece. I need refund asap. I have not paid 70k for a defective phone. I am feeling like got scammed.Edit - I returned this phone and got refund from amazon and bought the same from flipkart ..and it got no issues .',\n",
       " \"  Provided with defective product .Struggling for replacement since then .There are so many hidden terms and conditions.It's my last order on Amazon\"]"
      ]
     },
     "execution_count": 31,
     "metadata": {},
     "output_type": "execute_result"
    }
   ],
   "source": [
    "review_body = [review_body.strip('\\n') for review_body in review_body]\n",
    "review_body"
   ]
  },
  {
   "cell_type": "code",
   "execution_count": 32,
   "metadata": {},
   "outputs": [],
   "source": [
    "# Concatinating lists \n",
    "import pandas as pd\n",
    "customer_reviews = pd.DataFrame()\n",
    "\n",
    "customer_reviews['Customer Names'] = cust_names"
   ]
  },
  {
   "cell_type": "code",
   "execution_count": 33,
   "metadata": {},
   "outputs": [
    {
     "data": {
      "text/html": [
       "<div>\n",
       "<style scoped>\n",
       "    .dataframe tbody tr th:only-of-type {\n",
       "        vertical-align: middle;\n",
       "    }\n",
       "\n",
       "    .dataframe tbody tr th {\n",
       "        vertical-align: top;\n",
       "    }\n",
       "\n",
       "    .dataframe thead th {\n",
       "        text-align: right;\n",
       "    }\n",
       "</style>\n",
       "<table border=\"1\" class=\"dataframe\">\n",
       "  <thead>\n",
       "    <tr style=\"text-align: right;\">\n",
       "      <th></th>\n",
       "      <th>Customer Names</th>\n",
       "    </tr>\n",
       "  </thead>\n",
       "  <tbody>\n",
       "    <tr>\n",
       "      <th>0</th>\n",
       "      <td>Neha</td>\n",
       "    </tr>\n",
       "    <tr>\n",
       "      <th>1</th>\n",
       "      <td>Krusshna</td>\n",
       "    </tr>\n",
       "    <tr>\n",
       "      <th>2</th>\n",
       "      <td>shanu Kumar</td>\n",
       "    </tr>\n",
       "    <tr>\n",
       "      <th>3</th>\n",
       "      <td>Amazon Customer</td>\n",
       "    </tr>\n",
       "    <tr>\n",
       "      <th>4</th>\n",
       "      <td>Sunny Kumar</td>\n",
       "    </tr>\n",
       "    <tr>\n",
       "      <th>5</th>\n",
       "      <td>Sai</td>\n",
       "    </tr>\n",
       "    <tr>\n",
       "      <th>6</th>\n",
       "      <td>Satyapal singh</td>\n",
       "    </tr>\n",
       "    <tr>\n",
       "      <th>7</th>\n",
       "      <td>Gurmeet singh</td>\n",
       "    </tr>\n",
       "    <tr>\n",
       "      <th>8</th>\n",
       "      <td>Vinay Kumar Gupta</td>\n",
       "    </tr>\n",
       "    <tr>\n",
       "      <th>9</th>\n",
       "      <td>NAZAR</td>\n",
       "    </tr>\n",
       "  </tbody>\n",
       "</table>\n",
       "</div>"
      ],
      "text/plain": [
       "      Customer Names\n",
       "0               Neha\n",
       "1           Krusshna\n",
       "2        shanu Kumar\n",
       "3    Amazon Customer\n",
       "4        Sunny Kumar\n",
       "5               Sai \n",
       "6     Satyapal singh\n",
       "7      Gurmeet singh\n",
       "8  Vinay Kumar Gupta\n",
       "9              NAZAR"
      ]
     },
     "execution_count": 33,
     "metadata": {},
     "output_type": "execute_result"
    }
   ],
   "source": [
    "customer_reviews"
   ]
  },
  {
   "cell_type": "code",
   "execution_count": 34,
   "metadata": {},
   "outputs": [],
   "source": [
    "customer_reviews['Review Title'] = review_title\n",
    "customer_reviews['Rating'] = new_rating_list\n",
    "customer_reviews['Review'] = review_body"
   ]
  },
  {
   "cell_type": "code",
   "execution_count": 35,
   "metadata": {},
   "outputs": [
    {
     "data": {
      "text/html": [
       "<div>\n",
       "<style scoped>\n",
       "    .dataframe tbody tr th:only-of-type {\n",
       "        vertical-align: middle;\n",
       "    }\n",
       "\n",
       "    .dataframe tbody tr th {\n",
       "        vertical-align: top;\n",
       "    }\n",
       "\n",
       "    .dataframe thead th {\n",
       "        text-align: right;\n",
       "    }\n",
       "</style>\n",
       "<table border=\"1\" class=\"dataframe\">\n",
       "  <thead>\n",
       "    <tr style=\"text-align: right;\">\n",
       "      <th></th>\n",
       "      <th>Customer Names</th>\n",
       "      <th>Review Title</th>\n",
       "      <th>Rating</th>\n",
       "      <th>Review</th>\n",
       "    </tr>\n",
       "  </thead>\n",
       "  <tbody>\n",
       "    <tr>\n",
       "      <th>0</th>\n",
       "      <td>Neha</td>\n",
       "      <td>Do not buy iphone or expensive product from Am...</td>\n",
       "      <td>1</td>\n",
       "      <td>Please do not buy expensive product like iph...</td>\n",
       "    </tr>\n",
       "    <tr>\n",
       "      <th>1</th>\n",
       "      <td>Krusshna</td>\n",
       "      <td>Don’t buy it from this seller</td>\n",
       "      <td>1</td>\n",
       "      <td>Bought the mobile from appario retail ltd. M...</td>\n",
       "    </tr>\n",
       "    <tr>\n",
       "      <th>2</th>\n",
       "      <td>shanu Kumar</td>\n",
       "      <td>Solid premium phone from Apple</td>\n",
       "      <td>5</td>\n",
       "      <td>Awesome Phone. Nice upgrade from iPhone 6s t...</td>\n",
       "    </tr>\n",
       "    <tr>\n",
       "      <th>3</th>\n",
       "      <td>Amazon Customer</td>\n",
       "      <td>Worst Experience Ever.!</td>\n",
       "      <td>1</td>\n",
       "      <td>My Phone is Producing Too Much Heat Even Did...</td>\n",
       "    </tr>\n",
       "    <tr>\n",
       "      <th>4</th>\n",
       "      <td>Sunny Kumar</td>\n",
       "      <td>First Time iPhone User Review :-)</td>\n",
       "      <td>5</td>\n",
       "      <td>The iPhone design is good and the camera qua...</td>\n",
       "    </tr>\n",
       "    <tr>\n",
       "      <th>5</th>\n",
       "      <td>Sai</td>\n",
       "      <td>GOT CHEATED . ITS A SCAM. AMAZON FIX THIS</td>\n",
       "      <td>1</td>\n",
       "      <td>This is a big scam. I received the iphone 11...</td>\n",
       "    </tr>\n",
       "    <tr>\n",
       "      <th>6</th>\n",
       "      <td>Satyapal singh</td>\n",
       "      <td>iPhone 11</td>\n",
       "      <td>1</td>\n",
       "      <td>Defective product,got heat up within 5 minut...</td>\n",
       "    </tr>\n",
       "    <tr>\n",
       "      <th>7</th>\n",
       "      <td>Gurmeet singh</td>\n",
       "      <td>Defective Iphone 11</td>\n",
       "      <td>1</td>\n",
       "      <td>The product i got was defective . The face i...</td>\n",
       "    </tr>\n",
       "    <tr>\n",
       "      <th>8</th>\n",
       "      <td>Vinay Kumar Gupta</td>\n",
       "      <td>Too much heat on normal use</td>\n",
       "      <td>1</td>\n",
       "      <td>Just after i switched it on, it started prod...</td>\n",
       "    </tr>\n",
       "    <tr>\n",
       "      <th>9</th>\n",
       "      <td>NAZAR</td>\n",
       "      <td>Provided with a defective product</td>\n",
       "      <td>1</td>\n",
       "      <td>Provided with defective product .Struggling ...</td>\n",
       "    </tr>\n",
       "  </tbody>\n",
       "</table>\n",
       "</div>"
      ],
      "text/plain": [
       "      Customer Names                                       Review Title  \\\n",
       "0               Neha  Do not buy iphone or expensive product from Am...   \n",
       "1           Krusshna                      Don’t buy it from this seller   \n",
       "2        shanu Kumar                     Solid premium phone from Apple   \n",
       "3    Amazon Customer                            Worst Experience Ever.!   \n",
       "4        Sunny Kumar                  First Time iPhone User Review :-)   \n",
       "5               Sai           GOT CHEATED . ITS A SCAM. AMAZON FIX THIS   \n",
       "6     Satyapal singh                                          iPhone 11   \n",
       "7      Gurmeet singh                                Defective Iphone 11   \n",
       "8  Vinay Kumar Gupta                        Too much heat on normal use   \n",
       "9              NAZAR                  Provided with a defective product   \n",
       "\n",
       "  Rating                                             Review  \n",
       "0      1    Please do not buy expensive product like iph...  \n",
       "1      1    Bought the mobile from appario retail ltd. M...  \n",
       "2      5    Awesome Phone. Nice upgrade from iPhone 6s t...  \n",
       "3      1    My Phone is Producing Too Much Heat Even Did...  \n",
       "4      5    The iPhone design is good and the camera qua...  \n",
       "5      1    This is a big scam. I received the iphone 11...  \n",
       "6      1    Defective product,got heat up within 5 minut...  \n",
       "7      1    The product i got was defective . The face i...  \n",
       "8      1    Just after i switched it on, it started prod...  \n",
       "9      1    Provided with defective product .Struggling ...  "
      ]
     },
     "execution_count": 35,
     "metadata": {},
     "output_type": "execute_result"
    }
   ],
   "source": [
    "customer_reviews"
   ]
  },
  {
   "cell_type": "code",
   "execution_count": 36,
   "metadata": {},
   "outputs": [
    {
     "data": {
      "text/plain": [
       "list"
      ]
     },
     "execution_count": 36,
     "metadata": {},
     "output_type": "execute_result"
    }
   ],
   "source": [
    "type(review_body)"
   ]
  },
  {
   "cell_type": "code",
   "execution_count": null,
   "metadata": {},
   "outputs": [],
   "source": []
  }
 ],
 "metadata": {
  "kernelspec": {
   "display_name": "Python 3",
   "language": "python",
   "name": "python3"
  },
  "language_info": {
   "codemirror_mode": {
    "name": "ipython",
    "version": 3
   },
   "file_extension": ".py",
   "mimetype": "text/x-python",
   "name": "python",
   "nbconvert_exporter": "python",
   "pygments_lexer": "ipython3",
   "version": "3.8.5"
  }
 },
 "nbformat": 4,
 "nbformat_minor": 4
}
