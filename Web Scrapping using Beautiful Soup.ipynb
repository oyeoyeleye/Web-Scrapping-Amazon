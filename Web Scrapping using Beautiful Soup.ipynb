{
 "cells": [
  {
   "cell_type": "markdown",
   "metadata": {},
   "source": [
    "Import necessary libraries"
   ]
  },
  {
   "cell_type": "code",
   "execution_count": 1,
   "metadata": {},
   "outputs": [],
   "source": [
    "import bs4\n",
    "from bs4 import BeautifulSoup as bs \n",
    "import requests\n",
    "\n",
    "import pandas as pd"
   ]
  },
  {
   "cell_type": "code",
   "execution_count": 2,
   "metadata": {},
   "outputs": [],
   "source": [
    "# !pip install requests"
   ]
  },
  {
   "cell_type": "code",
   "execution_count": 3,
   "metadata": {},
   "outputs": [
    {
     "name": "stdout",
     "output_type": "stream",
     "text": [
      "4.9.3\n"
     ]
    }
   ],
   "source": [
    "print(bs4.__version__) # check version of beautiful soup I am using"
   ]
  },
  {
   "cell_type": "markdown",
   "metadata": {},
   "source": [
    "Get the amazon page with the iphone product review I want to work on"
   ]
  },
  {
   "cell_type": "code",
   "execution_count": 4,
   "metadata": {},
   "outputs": [],
   "source": [
    "url = 'https://www.amazon.in/New-Apple-iPhone-11-64GB/product-reviews/B08L8DV7BX/ref=cm_cr_dp_d_show_all_btm?ie=UTF8&reviewerType=all_reviews'\n",
    "\n",
    "# Get the html page using url\n",
    "page = requests.get(url)"
   ]
  },
  {
   "cell_type": "code",
   "execution_count": 5,
   "metadata": {},
   "outputs": [],
   "source": [
    "# To display the html page uncomment the line below\n",
    "# page.content"
   ]
  },
  {
   "cell_type": "code",
   "execution_count": 6,
   "metadata": {},
   "outputs": [],
   "source": [
    "# reading html file page.content \n",
    "soup = bs(page.content, 'html.parser')\n",
    "\n",
    "# Prettify() function in beautifulsoup will enable to view the html page with how tags are nested in document / page\n",
    "# print(soup.prettify())"
   ]
  },
  {
   "cell_type": "markdown",
   "metadata": {},
   "source": [
    "Getting the names of the customers"
   ]
  },
  {
   "cell_type": "code",
   "execution_count": 7,
   "metadata": {},
   "outputs": [
    {
     "data": {
      "text/plain": [
       "[<span class=\"a-profile-name\">Harjeet</span>,\n",
       " <span class=\"a-profile-name\">Satish</span>,\n",
       " <span class=\"a-profile-name\">Harjeet</span>,\n",
       " <span class=\"a-profile-name\">Aditya</span>,\n",
       " <span class=\"a-profile-name\">Pratiksmit Baishya</span>,\n",
       " <span class=\"a-profile-name\">Ramesh T</span>,\n",
       " <span class=\"a-profile-name\">Satish</span>,\n",
       " <span class=\"a-profile-name\">Vineeta</span>,\n",
       " <span class=\"a-profile-name\">vishal koundal</span>,\n",
       " <span class=\"a-profile-name\">A V.S.Satakarny</span>,\n",
       " <span class=\"a-profile-name\">akshayguri</span>,\n",
       " <span class=\"a-profile-name\">Syed Shoaib</span>]"
      ]
     },
     "execution_count": 7,
     "metadata": {},
     "output_type": "execute_result"
    }
   ],
   "source": [
    "names = soup.find_all('span', class_ = 'a-profile-name')\n",
    "names"
   ]
  },
  {
   "cell_type": "markdown",
   "metadata": {},
   "source": [
    "Printing out the names in a list format "
   ]
  },
  {
   "cell_type": "code",
   "execution_count": 8,
   "metadata": {},
   "outputs": [
    {
     "data": {
      "text/plain": [
       "['Harjeet',\n",
       " 'Satish',\n",
       " 'Harjeet',\n",
       " 'Aditya',\n",
       " 'Pratiksmit Baishya',\n",
       " 'Ramesh T',\n",
       " 'Satish',\n",
       " 'Vineeta',\n",
       " 'vishal koundal',\n",
       " 'A V.S.Satakarny',\n",
       " 'akshayguri',\n",
       " 'Syed Shoaib']"
      ]
     },
     "execution_count": 8,
     "metadata": {},
     "output_type": "execute_result"
    }
   ],
   "source": [
    "# Get the texts from list of names \n",
    "cust_names = []\n",
    "for i in range(len(names)):\n",
    "    cust_names.append(names[i].get_text())\n",
    "\n",
    "cust_names"
   ]
  },
  {
   "cell_type": "code",
   "execution_count": 9,
   "metadata": {},
   "outputs": [
    {
     "data": {
      "text/plain": [
       "'Harjeet'"
      ]
     },
     "execution_count": 9,
     "metadata": {},
     "output_type": "execute_result"
    }
   ],
   "source": [
    "cust_names.pop(0)"
   ]
  },
  {
   "cell_type": "code",
   "execution_count": 10,
   "metadata": {},
   "outputs": [
    {
     "data": {
      "text/plain": [
       "'Satish'"
      ]
     },
     "execution_count": 10,
     "metadata": {},
     "output_type": "execute_result"
    }
   ],
   "source": [
    "cust_names.pop(0)"
   ]
  },
  {
   "cell_type": "markdown",
   "metadata": {},
   "source": [
    "Getting the title of the review provided by the customer"
   ]
  },
  {
   "cell_type": "code",
   "execution_count": 11,
   "metadata": {},
   "outputs": [
    {
     "data": {
      "text/plain": [
       "['Best ever',\n",
       " 'Do not purchase iPhone from Amazon',\n",
       " '\\nBest ever\\n',\n",
       " '\\nNice Build and Overall champion\\n',\n",
       " '\\nSwitched from android to iOS after 8 years..!! And it’s very premium..!!\\n',\n",
       " '\\nGreat iPhone\\n',\n",
       " '\\nDo not purchase iPhone from Amazon\\n',\n",
       " '\\nMissing accessories\\n',\n",
       " '\\nI love this device...❤️❤️❤️❤️\\n',\n",
       " '\\nEarpods and power adopter are missing\\n',\n",
       " '\\npls provide charger & earpods\\n',\n",
       " '\\nGreat value for iPad and MacBook users.\\n']"
      ]
     },
     "execution_count": 11,
     "metadata": {},
     "output_type": "execute_result"
    }
   ],
   "source": [
    "# Title of each review commented 'review-title'\n",
    "review_title = soup.find_all(class_ ='review-title')\n",
    "\n",
    "# Get the texts from list of names \n",
    "title = []\n",
    "for i in range(len(names)):\n",
    "    title.append(review_title[i].get_text())\n",
    "    \n",
    "title"
   ]
  },
  {
   "cell_type": "markdown",
   "metadata": {},
   "source": [
    "Cleaning above result above by removing the '\\n' in the title names gotten"
   ]
  },
  {
   "cell_type": "code",
   "execution_count": 12,
   "metadata": {},
   "outputs": [
    {
     "data": {
      "text/plain": [
       "['Best ever',\n",
       " 'Do not purchase iPhone from Amazon',\n",
       " 'Best ever',\n",
       " 'Nice Build and Overall champion',\n",
       " 'Switched from android to iOS after 8 years..!! And it’s very premium..!!',\n",
       " 'Great iPhone',\n",
       " 'Do not purchase iPhone from Amazon',\n",
       " 'Missing accessories',\n",
       " 'I love this device...❤️❤️❤️❤️',\n",
       " 'Earpods and power adopter are missing',\n",
       " 'pls provide charger & earpods',\n",
       " 'Great value for iPad and MacBook users.']"
      ]
     },
     "execution_count": 12,
     "metadata": {},
     "output_type": "execute_result"
    }
   ],
   "source": [
    "review_title = [title.strip('\\n') for title in title]\n",
    "review_title"
   ]
  },
  {
   "cell_type": "markdown",
   "metadata": {},
   "source": [
    "Removing duplicate title"
   ]
  },
  {
   "cell_type": "code",
   "execution_count": 13,
   "metadata": {},
   "outputs": [
    {
     "data": {
      "text/plain": [
       "'Best ever'"
      ]
     },
     "execution_count": 13,
     "metadata": {},
     "output_type": "execute_result"
    }
   ],
   "source": [
    "review_title.pop(0)"
   ]
  },
  {
   "cell_type": "code",
   "execution_count": 14,
   "metadata": {},
   "outputs": [
    {
     "data": {
      "text/plain": [
       "'Do not purchase iPhone from Amazon'"
      ]
     },
     "execution_count": 14,
     "metadata": {},
     "output_type": "execute_result"
    }
   ],
   "source": [
    "review_title.pop(0)"
   ]
  },
  {
   "cell_type": "code",
   "execution_count": 15,
   "metadata": {},
   "outputs": [
    {
     "data": {
      "text/plain": [
       "['Best ever',\n",
       " 'Nice Build and Overall champion',\n",
       " 'Switched from android to iOS after 8 years..!! And it’s very premium..!!',\n",
       " 'Great iPhone',\n",
       " 'Do not purchase iPhone from Amazon',\n",
       " 'Missing accessories',\n",
       " 'I love this device...❤️❤️❤️❤️',\n",
       " 'Earpods and power adopter are missing',\n",
       " 'pls provide charger & earpods',\n",
       " 'Great value for iPad and MacBook users.']"
      ]
     },
     "execution_count": 15,
     "metadata": {},
     "output_type": "execute_result"
    }
   ],
   "source": [
    "review_title"
   ]
  },
  {
   "cell_type": "markdown",
   "metadata": {},
   "source": [
    "Getting the rating of the review provided by the customer"
   ]
  },
  {
   "cell_type": "code",
   "execution_count": 16,
   "metadata": {},
   "outputs": [
    {
     "data": {
      "text/plain": [
       "[<i class=\"a-icon a-icon-star a-star-5 review-rating\" data-hook=\"review-star-rating-view-point\"><span class=\"a-icon-alt\">5.0 out of 5 stars</span></i>,\n",
       " <i class=\"a-icon a-icon-star a-star-1 review-rating\" data-hook=\"review-star-rating-view-point\"><span class=\"a-icon-alt\">1.0 out of 5 stars</span></i>,\n",
       " <i class=\"a-icon a-icon-star a-star-5 review-rating\" data-hook=\"review-star-rating\"><span class=\"a-icon-alt\">5.0 out of 5 stars</span></i>,\n",
       " <i class=\"a-icon a-icon-star a-star-5 review-rating\" data-hook=\"review-star-rating\"><span class=\"a-icon-alt\">5.0 out of 5 stars</span></i>,\n",
       " <i class=\"a-icon a-icon-star a-star-5 review-rating\" data-hook=\"review-star-rating\"><span class=\"a-icon-alt\">5.0 out of 5 stars</span></i>,\n",
       " <i class=\"a-icon a-icon-star a-star-5 review-rating\" data-hook=\"review-star-rating\"><span class=\"a-icon-alt\">5.0 out of 5 stars</span></i>,\n",
       " <i class=\"a-icon a-icon-star a-star-1 review-rating\" data-hook=\"review-star-rating\"><span class=\"a-icon-alt\">1.0 out of 5 stars</span></i>,\n",
       " <i class=\"a-icon a-icon-star a-star-1 review-rating\" data-hook=\"review-star-rating\"><span class=\"a-icon-alt\">1.0 out of 5 stars</span></i>,\n",
       " <i class=\"a-icon a-icon-star a-star-5 review-rating\" data-hook=\"review-star-rating\"><span class=\"a-icon-alt\">5.0 out of 5 stars</span></i>,\n",
       " <i class=\"a-icon a-icon-star a-star-3 review-rating\" data-hook=\"review-star-rating\"><span class=\"a-icon-alt\">3.0 out of 5 stars</span></i>,\n",
       " <i class=\"a-icon a-icon-star a-star-1 review-rating\" data-hook=\"review-star-rating\"><span class=\"a-icon-alt\">1.0 out of 5 stars</span></i>,\n",
       " <i class=\"a-icon a-icon-star a-star-5 review-rating\" data-hook=\"review-star-rating\"><span class=\"a-icon-alt\">5.0 out of 5 stars</span></i>]"
      ]
     },
     "execution_count": 16,
     "metadata": {},
     "output_type": "execute_result"
    }
   ],
   "source": [
    "rating = soup.find_all(class_ ='review-rating')\n",
    "rating"
   ]
  },
  {
   "cell_type": "markdown",
   "metadata": {},
   "source": [
    "Cleaning up the rating gotten in above result"
   ]
  },
  {
   "cell_type": "code",
   "execution_count": 17,
   "metadata": {},
   "outputs": [
    {
     "data": {
      "text/plain": [
       "['5', '1', '5', '5', '5', '5', '1', '1', '5', '3', '1', '5']"
      ]
     },
     "execution_count": 17,
     "metadata": {},
     "output_type": "execute_result"
    }
   ],
   "source": [
    "# Get the texts from list of names \n",
    "rating_list = []\n",
    "for i in range(len(rating)):\n",
    "    rating_list.append(rating[i].get_text()[0])\n",
    "    \n",
    "rating_list"
   ]
  },
  {
   "cell_type": "markdown",
   "metadata": {},
   "source": [
    "Rmoving the duplicated rating of the title which were removed earlier"
   ]
  },
  {
   "cell_type": "code",
   "execution_count": 18,
   "metadata": {},
   "outputs": [
    {
     "data": {
      "text/plain": [
       "['5', '5', '5', '5', '1', '1', '5', '3', '1', '5']"
      ]
     },
     "execution_count": 18,
     "metadata": {},
     "output_type": "execute_result"
    }
   ],
   "source": [
    "new_rating_list = rating_list[2:]\n",
    "new_rating_list "
   ]
  },
  {
   "cell_type": "code",
   "execution_count": 19,
   "metadata": {},
   "outputs": [
    {
     "data": {
      "text/plain": [
       "['  Dont go by the negative reviews! If you want to go for iphone which can compete with high end android phones, this is the one. I have used the Oneplus 7T for 2.5 months (and sold it) and can say after comparison that the photos that iPhone 11 takes are way better than OP 7T. The battery has been performing really well after all daily chores, youtube, spotify, netflix, etc. I have last charged the phone to 100% at 9.12 pm and as I write this review (12.54 pm next day), I have got 30% left. I used to have an iphone 6s which I used for 4 years after which I bought the OP 7T. Now that I am back to the ios ecosystem, it does feel good! Also, trust me, the transition back to a Liquid Retina display from 90Hz does not feel bad, because Apple has really done a good job is maintaining a crisp and vibrant display in iPhone 11. Go for it guys!!',\n",
       " '  Battery life is good. It can easily last for a day and a half with moderate usage. Performs well in day to day task. Mine is a made in india model which feels nice. Weight of the phone is a little downside. It feels heavy at 192gms',\n",
       " '  First of all,, a huge shoutout to the seller, i.e, Darshita Electronics, who literally delivered before time and it was totally genuine apple product. And talking about the product, it is beyond imagination..!! Battery life is perfect for an average use. I don’t play games so no idea about that. And camera is next level. Talking about storage, for me who doesn’t play games and do not watch movies on phone, 64GB is more than enough. For a long term android user,, it is the best phone to upgrade from android to iOS..!!',\n",
       " '  After analyzing for many months, finally took the decision to buy my first IPhone from Amazon. Kudos to Amazon, seller & delivery partner in prompt delivery as promised & in perfect condition. Below is my quick review after a month of usage -Pros1. Premium feel at hand & ease of use especially after coming a decade of being Android user.2. No battery heating or draining. Lasts for about 3days with very casual usage - office call, mails, few apps. Please note i have not installed any games or heavy intense apps.3. Camera quality is the best that i have experienced.4. Face ID works like charm & very useful in authentication while installing apps or view the notifications on lock screen.5. Call quality, data connection & connectivity felt immediately better compared to my earlier phone.Cons1. Only nick picking on the charger not being provided in this new version. IF you have any USB C charger at home, you can leverage the same to charge this phone since USB C cable is provided.2. Cannot use 3.5mm jack based headsets. Need Bluetooth headset or lightening port connectors.Per my experience, I would definitely recommend iPhone11 since i do not see any potential cons. I do not miss the 120Hz refresh or amoled screen while using the phone.',\n",
       " \"  Do not purchase iPhone from AmazonI purchased this device, and camera quality is worst I compared with the other iPhone 11 device and this device camera is totally useless. And phone not charging after 3hr of charging it charged 25%.I tried contacting with Amazon for replacement and they told me to go to apple and apple telling me to check with Amazon. It's it amazing.#donotbuyapple products from Amazon\",\n",
       " '  Why dint you send the charger the headphone and other accessories?',\n",
       " '  AppleApple says the iPhone 11 will last for an hour longer on its battery than the iPhone XR, which already got tremendous battery life. But the only hard battery life numbers Apple publishes now are fixed tests of single actions, like video and audio playback on a loop. That’s not how anyone really uses a phone, and Apple’s claims of improved battery life over the previous phone aren’t really based on those tests. Instead, the company takes a huge dataset of real-world iPhone usage and runs it against a model of the new phone that accounts for the various processor, chipset, display, and OS power improvements and the larger battery capacity',\n",
       " '  Adopter and ear pods are missing in the packing ( of iphone11 black) where as in the product introductory in your add it was written to contain these items.',\n",
       " \"  Chargers and airpods did not arrive with the phone Including charger and Airpods was written above the iPhone XI .I didn't have chargers and airpods\",\n",
       " '  The iPhone 11 is a good package. It is particularly great value for those who have invested in the Apple ecosystem, has bought apps from the App Store I have work flows that sync with iCloud.As a researcher and writer I get access to softwares like Ulysses and Notability on my phone which is great.Besides the phone covers all the essential basic features-a great camera, waterproofing, great battery life, cutting-edge haptic feedback, colour accurate and bright display good for reading indoor or outdoors.I do not have anything to complain about the phone. I think it will be good for another four years at least.']"
      ]
     },
     "execution_count": 19,
     "metadata": {},
     "output_type": "execute_result"
    }
   ],
   "source": [
    "# review = soup.find_all('span', {\"data-hook\" : 'review-body'})\n",
    "# review\n",
    "\n",
    "# Getting the reviews\n",
    "review = soup.find_all('span', class_= 'review-text-content')\n",
    "\n",
    "# Cleaning up the reviews\n",
    "review_body = []\n",
    "for i in range(len(review)):\n",
    "    review_body.append(review[i].get_text())\n",
    "    \n",
    "review_body = [review_body.strip('\\n') for review_body in review_body]\n",
    "review_body"
   ]
  },
  {
   "cell_type": "markdown",
   "metadata": {},
   "source": [
    "Creating the dataframe for the reviews"
   ]
  },
  {
   "cell_type": "code",
   "execution_count": 20,
   "metadata": {},
   "outputs": [
    {
     "data": {
      "text/html": [
       "<div>\n",
       "<style scoped>\n",
       "    .dataframe tbody tr th:only-of-type {\n",
       "        vertical-align: middle;\n",
       "    }\n",
       "\n",
       "    .dataframe tbody tr th {\n",
       "        vertical-align: top;\n",
       "    }\n",
       "\n",
       "    .dataframe thead th {\n",
       "        text-align: right;\n",
       "    }\n",
       "</style>\n",
       "<table border=\"1\" class=\"dataframe\">\n",
       "  <thead>\n",
       "    <tr style=\"text-align: right;\">\n",
       "      <th></th>\n",
       "      <th>Customer Names</th>\n",
       "      <th>Review Title</th>\n",
       "      <th>Rating</th>\n",
       "      <th>Review</th>\n",
       "    </tr>\n",
       "  </thead>\n",
       "  <tbody>\n",
       "    <tr>\n",
       "      <th>0</th>\n",
       "      <td>Harjeet</td>\n",
       "      <td>Best ever</td>\n",
       "      <td>5</td>\n",
       "      <td>Dont go by the negative reviews! If you want...</td>\n",
       "    </tr>\n",
       "    <tr>\n",
       "      <th>1</th>\n",
       "      <td>Aditya</td>\n",
       "      <td>Nice Build and Overall champion</td>\n",
       "      <td>5</td>\n",
       "      <td>Battery life is good. It can easily last for...</td>\n",
       "    </tr>\n",
       "    <tr>\n",
       "      <th>2</th>\n",
       "      <td>Pratiksmit Baishya</td>\n",
       "      <td>Switched from android to iOS after 8 years..!!...</td>\n",
       "      <td>5</td>\n",
       "      <td>First of all,, a huge shoutout to the seller...</td>\n",
       "    </tr>\n",
       "    <tr>\n",
       "      <th>3</th>\n",
       "      <td>Ramesh T</td>\n",
       "      <td>Great iPhone</td>\n",
       "      <td>5</td>\n",
       "      <td>After analyzing for many months, finally too...</td>\n",
       "    </tr>\n",
       "    <tr>\n",
       "      <th>4</th>\n",
       "      <td>Satish</td>\n",
       "      <td>Do not purchase iPhone from Amazon</td>\n",
       "      <td>1</td>\n",
       "      <td>Do not purchase iPhone from AmazonI purchase...</td>\n",
       "    </tr>\n",
       "    <tr>\n",
       "      <th>5</th>\n",
       "      <td>Vineeta</td>\n",
       "      <td>Missing accessories</td>\n",
       "      <td>1</td>\n",
       "      <td>Why dint you send the charger the headphone ...</td>\n",
       "    </tr>\n",
       "    <tr>\n",
       "      <th>6</th>\n",
       "      <td>vishal koundal</td>\n",
       "      <td>I love this device...❤️❤️❤️❤️</td>\n",
       "      <td>5</td>\n",
       "      <td>AppleApple says the iPhone 11 will last for ...</td>\n",
       "    </tr>\n",
       "    <tr>\n",
       "      <th>7</th>\n",
       "      <td>A V.S.Satakarny</td>\n",
       "      <td>Earpods and power adopter are missing</td>\n",
       "      <td>3</td>\n",
       "      <td>Adopter and ear pods are missing in the pack...</td>\n",
       "    </tr>\n",
       "    <tr>\n",
       "      <th>8</th>\n",
       "      <td>akshayguri</td>\n",
       "      <td>pls provide charger &amp; earpods</td>\n",
       "      <td>1</td>\n",
       "      <td>Chargers and airpods did not arrive with the...</td>\n",
       "    </tr>\n",
       "    <tr>\n",
       "      <th>9</th>\n",
       "      <td>Syed Shoaib</td>\n",
       "      <td>Great value for iPad and MacBook users.</td>\n",
       "      <td>5</td>\n",
       "      <td>The iPhone 11 is a good package. It is parti...</td>\n",
       "    </tr>\n",
       "  </tbody>\n",
       "</table>\n",
       "</div>"
      ],
      "text/plain": [
       "       Customer Names                                       Review Title  \\\n",
       "0             Harjeet                                          Best ever   \n",
       "1              Aditya                    Nice Build and Overall champion   \n",
       "2  Pratiksmit Baishya  Switched from android to iOS after 8 years..!!...   \n",
       "3            Ramesh T                                       Great iPhone   \n",
       "4              Satish                 Do not purchase iPhone from Amazon   \n",
       "5             Vineeta                                Missing accessories   \n",
       "6      vishal koundal                      I love this device...❤️❤️❤️❤️   \n",
       "7     A V.S.Satakarny              Earpods and power adopter are missing   \n",
       "8          akshayguri                      pls provide charger & earpods   \n",
       "9         Syed Shoaib            Great value for iPad and MacBook users.   \n",
       "\n",
       "  Rating                                             Review  \n",
       "0      5    Dont go by the negative reviews! If you want...  \n",
       "1      5    Battery life is good. It can easily last for...  \n",
       "2      5    First of all,, a huge shoutout to the seller...  \n",
       "3      5    After analyzing for many months, finally too...  \n",
       "4      1    Do not purchase iPhone from AmazonI purchase...  \n",
       "5      1    Why dint you send the charger the headphone ...  \n",
       "6      5    AppleApple says the iPhone 11 will last for ...  \n",
       "7      3    Adopter and ear pods are missing in the pack...  \n",
       "8      1    Chargers and airpods did not arrive with the...  \n",
       "9      5    The iPhone 11 is a good package. It is parti...  "
      ]
     },
     "execution_count": 20,
     "metadata": {},
     "output_type": "execute_result"
    }
   ],
   "source": [
    "# Concatinating all the lists gotten from the webpage\n",
    "\n",
    "customer_reviews = pd.DataFrame()\n",
    "\n",
    "customer_reviews['Customer Names'] = cust_names\n",
    "customer_reviews['Review Title'] = review_title\n",
    "customer_reviews['Rating'] = new_rating_list\n",
    "customer_reviews['Review'] = review_body\n",
    "\n",
    "customer_reviews"
   ]
  },
  {
   "cell_type": "code",
   "execution_count": null,
   "metadata": {},
   "outputs": [],
   "source": []
  }
 ],
 "metadata": {
  "kernelspec": {
   "display_name": "Python 3",
   "language": "python",
   "name": "python3"
  },
  "language_info": {
   "codemirror_mode": {
    "name": "ipython",
    "version": 3
   },
   "file_extension": ".py",
   "mimetype": "text/x-python",
   "name": "python",
   "nbconvert_exporter": "python",
   "pygments_lexer": "ipython3",
   "version": "3.8.5"
  }
 },
 "nbformat": 4,
 "nbformat_minor": 4
}
